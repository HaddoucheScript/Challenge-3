{
 "cells": [
  {
   "cell_type": "code",
   "execution_count": 196,
   "id": "413fd60d-661e-4a1f-b15f-396c6b173223",
   "metadata": {},
   "outputs": [
    {
     "name": "stdout",
     "output_type": "stream",
     "text": [
      "15.2\n",
      "5.1\n",
      "9.8\n"
     ]
    }
   ],
   "source": [
    "f = open(\"Temp.txt\", \"r\")\n",
    "tempmax=[]\n",
    "tempmin=[]\n",
    "preci=[]\n",
    "#data=[line.split(',') for line in f]\n",
    "for line in data:\n",
    "    \n",
    "    if(len(line)>2):\n",
    "        b=line[1]\n",
    "        c=line[2]\n",
    "        d=line[3]\n",
    "        tempmax.append(int(b))\n",
    "        tempmin.append(int(c))\n",
    "        preci.append(float(d))\n",
    "print(sum(tempmax)/10)\n",
    "print(sum(tempmin)/10)\n",
    "print(sum(preci))\n",
    " \n",
    "       "
   ]
  },
  {
   "cell_type": "code",
   "execution_count": null,
   "id": "fd0c342e-8147-4d5d-9cf4-709f9da437bc",
   "metadata": {},
   "outputs": [],
   "source": []
  }
 ],
 "metadata": {
  "kernelspec": {
   "display_name": "Python 3 (ipykernel)",
   "language": "python",
   "name": "python3"
  },
  "language_info": {
   "codemirror_mode": {
    "name": "ipython",
    "version": 3
   },
   "file_extension": ".py",
   "mimetype": "text/x-python",
   "name": "python",
   "nbconvert_exporter": "python",
   "pygments_lexer": "ipython3",
   "version": "3.12.4"
  }
 },
 "nbformat": 4,
 "nbformat_minor": 5
}
